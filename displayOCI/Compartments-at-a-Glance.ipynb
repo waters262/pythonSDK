{
 "cells": [
  {
   "cell_type": "markdown",
   "metadata": {},
   "source": [
    "# Compartments at a glance\n",
    "\n",
    "\n"
   ]
  },
  {
   "cell_type": "markdown",
   "metadata": {},
   "source": [
    "### Reference URL's\n",
    "\n"
   ]
  },
  {
   "cell_type": "markdown",
   "metadata": {},
   "source": [
    "#### https://docs.cloud.oracle.com/iaas/tools/oci-cli/latest/oci_cli_docs/index.html\n",
    "\n",
    "#### https://github.com/oracle/learning-library/blob/master/oci-library/qloudable/OCI_CLI/OCI_CLI_HOL.md\n",
    "\n",
    "#### Python SDK API \n",
    "https://oracle-cloud-infrastructure-python-sdk.readthedocs.io/en/latest/api/landing.html\n",
    "##### Core Services\n",
    "https://oracle-cloud-infrastructure-python-sdk.readthedocs.io/en/latest/api/core.html\n",
    "\n",
    "#### Example Python SDK - showoci\n",
    "https://github.com/oracle/oci-python-sdk/tree/master/examples/showoci\n"
   ]
  },
  {
   "cell_type": "markdown",
   "metadata": {},
   "source": [
    "# Initializations and Methods"
   ]
  },
  {
   "cell_type": "markdown",
   "metadata": {},
   "source": [
    "## Global variables and Imports"
   ]
  },
  {
   "cell_type": "code",
   "execution_count": null,
   "metadata": {
    "ExecuteTime": {
     "end_time": "2021-03-15T18:46:10.460821Z",
     "start_time": "2021-03-15T18:46:07.270871Z"
    },
    "code_folding": [],
    "scrolled": true
   },
   "outputs": [],
   "source": [
    "import os\n",
    "import oci\n",
    "import sys\n",
    "import select\n",
    "import time\n",
    "import subprocess\n",
    "import json ,  pprint\n",
    "from IPython.display import display, Math, HTML, Markdown\n",
    "display(HTML(\"<style>.container { width:100% !important; }</style>\"))\n",
    "display(HTML(\"<style>div.output_scroll { height: 70em; }</style>\"))\n",
    "\n",
    "\n"
   ]
  },
  {
   "cell_type": "markdown",
   "metadata": {},
   "source": [
    "## SSO Login initialization"
   ]
  },
  {
   "cell_type": "markdown",
   "metadata": {},
   "source": [
    "### Session must first be authenticated in python oci console\n"
   ]
  },
  {
   "cell_type": "markdown",
   "metadata": {
    "heading_collapsed": true
   },
   "source": [
    "#### Perform the following on your python command line\n",
    "#### (oracle-cli) C:\\Users\\kevin>oci session authenticate --region us-ashburn-1 --profile hpc-sso\n",
    "    Please switch to newly opened browser window to log in!\n",
    "    Completed browser authentication process!\n",
    "Enter the name of the profile you would like to create: hpc-sso\n",
    "Config written to: C:\\Users\\kevin\\.oci\\config\n",
    "\n",
    "    Try out your newly created session credentials with the following example command:\n",
    "\n",
    "    oci iam region list --config-file C:\\Users\\kevin\\.oci\\config --profile hpc-sso --auth security_token\n",
    "\n",
    "\n",
    "#### (oracle-cli) C:\\Users\\kevin>oci session refresh --profile hpc-sso\n",
    "Attempting to refresh token from https://auth.us-ashburn-1.oraclecloud.com/v1/authentication/refresh\n",
    "Successfully refreshed token\n",
    "\n",
    "#### (oracle-cli) C:\\Users\\kevin>oci session validate --profile hpc-sso\n",
    "Session is valid until 2021-01-08 03:59:47\n"
   ]
  },
  {
   "cell_type": "markdown",
   "metadata": {},
   "source": [
    "### SSO config setup"
   ]
  },
  {
   "cell_type": "code",
   "execution_count": null,
   "metadata": {
    "ExecuteTime": {
     "end_time": "2021-03-15T18:48:33.258453Z",
     "start_time": "2021-03-15T18:48:31.886360Z"
    }
   },
   "outputs": [],
   "source": [
    "ssoProfile='hpc-sso2'\n",
    "ssoRegion='us-ashburn-1'\n",
    "ssoProfileFlag = True\n",
    "profiles = ['hpc-sso2']\n",
    "config = oci.config.from_file(profile_name=ssoProfile)\n",
    "token_file = config['security_token_file']\n",
    "token = None\n",
    "with open(token_file, 'r') as f:\n",
    "     token = f.read()\n",
    "\n",
    "private_key = oci.signer.load_private_key_from_file(config['key_file'])\n",
    "\n",
    "signer = oci.auth.signers.SecurityTokenSigner(token, private_key) \n",
    "client = oci.identity.IdentityClient({'region': ssoRegion}, signer=signer)\n",
    "compts = client.list_compartments(compartment_id=config['tenancy']\\\n",
    "                                ,compartment_id_in_subtree=True)\n",
    "\n",
    "network = oci.core.VirtualNetworkClient({'region': ssoRegion}, signer=signer)\n"
   ]
  },
  {
   "cell_type": "markdown",
   "metadata": {},
   "source": [
    "### Test SSO config"
   ]
  },
  {
   "cell_type": "code",
   "execution_count": null,
   "metadata": {
    "ExecuteTime": {
     "end_time": "2021-03-15T18:48:41.237466Z",
     "start_time": "2021-03-15T18:48:40.651770Z"
    }
   },
   "outputs": [],
   "source": [
    "list_compartments_response = client.list_compartments(compartment_id=config['tenancy']\\\n",
    "                                        ,compartment_id_in_subtree=True)\n",
    "\n",
    "\n",
    "comptList = (list_compartments_response.data)\n",
    "for compt in comptList:\n",
    "    #print(compt.name)\n",
    "    if compt.name in 'kevin':\n",
    "        break\n",
    "        \n",
    "regions = client.list_regions()\n",
    "pprint.pprint(compt)"
   ]
  },
  {
   "cell_type": "markdown",
   "metadata": {},
   "source": [
    "# Reports"
   ]
  },
  {
   "cell_type": "markdown",
   "metadata": {},
   "source": [
    "### Report Methods"
   ]
  },
  {
   "cell_type": "markdown",
   "metadata": {},
   "source": [
    "#### General Report Methods"
   ]
  },
  {
   "cell_type": "code",
   "execution_count": null,
   "metadata": {
    "ExecuteTime": {
     "end_time": "2021-03-11T13:58:36.068524Z",
     "start_time": "2021-03-11T13:58:36.055523Z"
    }
   },
   "outputs": [],
   "source": [
    "def formatCidrBlk(cidrBlk):\n",
    "    # CIDR Blocks \n",
    "    cidridx = cidrBlk.index('/')\n",
    "    cidr = cidrBlk[:cidridx]\n",
    "    mask = cidrBlk[cidridx+1:]\n",
    "    fmtCidr = ' \\\\textsf{' + cidr + '}_{' + mask + '} '\n",
    "    return fmtCidr\n",
    "display(Markdown('$$ '+(formatCidrBlk('10.2.0.0/2') + ' $$ '  )))"
   ]
  },
  {
   "cell_type": "markdown",
   "metadata": {},
   "source": [
    "#### Display Table of Compartments in this Report"
   ]
  },
  {
   "cell_type": "code",
   "execution_count": null,
   "metadata": {
    "ExecuteTime": {
     "end_time": "2021-03-11T13:59:05.627712Z",
     "start_time": "2021-03-11T13:58:39.954190Z"
    },
    "code_folding": [
     127,
     195
    ],
    "scrolled": true
   },
   "outputs": [],
   "source": [
    "# Set the myCompartments list for the compartments you want to display\n",
    "myCompartments = ['kevin', 'MainLab' ]\n",
    "#\n",
    "def showComptsTable(comptList):\n",
    "    comptTableTitle = '$$\\hspace {1mm} \\\\large {\\\\textbf{Compartments at a glance}}$$' \n",
    "    comptTable = ''\n",
    "    comptTableTop = \"\"\"\n",
    " \\\\begin{array}{|l|c|l|c|c|} \\hline\n",
    " {\\\\small  \\\\textbf{Compartment} }  & {\\\\small  \\\\textbf{Status}}   & {\\\\small  \\\\textbf{Description}} \n",
    "      & \\\\overset{\\\\textbf{Spans}}{\\\\textbf{Regions}} & {\\\\small \\\\textbf{Network}}  \n",
    "      & \\\\underset{\\\\small \\\\textbf{Instances}}{\\\\textbf{Compute}}  \n",
    "      &  {\\\\small  \\\\textbf{Databases}}     \n",
    "      &  {\\\\small  \\\\textbf{Storage}}   \\\\\\[6pt] \\hdashline\n",
    "\"\"\"\n",
    "    comptTableLine = \"\\\\color{red}{\\\\textbf{ COMPT}} & {STATUS} & DESCR & {\\\\small REGIONS} & {\\\\small VCNS} \" \\\n",
    "                     + \" & {\\\\small COMPUTE}  & {\\\\small DATABASE} & {\\\\small STORAGE}  \\\\\\[6pt] \\hline \"\n",
    "    comptTableLines = []\n",
    "    for compt in comptList:\n",
    "        if compt.name not in myCompartments:\n",
    "            continue\n",
    "        tmpTableLine = comptTableLine\n",
    "        tmpTableLine = tmpTableLine.replace('COMPT', compt.name  )\n",
    "        if compt.lifecycle_state in 'ACTIVE':\n",
    "            state = '\\\\color{green}{ \\\\Uparrow\\\\Uparrow } '\n",
    "        else:\n",
    "            state = '\\\\color{red}{ \\\\Downarrow\\\\Downarrow } '\n",
    "        tmpTableLine = tmpTableLine.replace('STATUS',state)\n",
    "        #        \n",
    "        tmpTableLine = tmpTableLine.replace('DESCR', ' \\\\textsf{'  + compt.description  + '}  ' )\n",
    "        #\n",
    "        # Region determination\n",
    "        # See if there are any VCN's associated with this compartment/region\n",
    "        regions = []\n",
    "        if not ssoProfileFlag:\n",
    "            for profile in profiles:\n",
    "                config = oci.config.from_file(profile_name=profile)\n",
    "                # Add Region rows\n",
    "                region=config['region']      \n",
    "                print('Profile is: ',profile)\n",
    "                # Get List of VCNs for this compartment\n",
    "                network = oci.core.VirtualNetworkClient(config)\n",
    "                vcns = network.list_vcns(compt.id)\n",
    "                if vcns.data:\n",
    "    #                 print('Compt - ' + compt.name + '  has vcns in region: ' + region  )\n",
    "                    regions.append(region)\n",
    "        else:\n",
    "            network = oci.core.VirtualNetworkClient({'region': ssoRegion}, signer=signer)\n",
    "            vcns = network.list_vcns(compt.id)\n",
    "        # Begin Region Array for display within main array\n",
    "        beginMatrix = \"\\\\begin{array}{l} \"\n",
    "        newMatrix = beginMatrix\n",
    "        for loopRegion in regions:\n",
    "            rgn = loopRegion[:12]\n",
    "            newMatrix = newMatrix + ' \\\\textsf {' +  rgn +   '} \\\\\\[1pt]'\n",
    "        regionMatrix = newMatrix + ' \\end{array}\\ '\n",
    "        #\n",
    "        tmpTableLine = tmpTableLine.replace('REGIONS', regionMatrix )\n",
    "        # End Region\n",
    "\n",
    "        beginMatrix = \"\\\\begin{array}{c} \"\n",
    "        newMatrix = '  ';  newMatrix2 = '  '; newMatrix3 = '  '; newMatrix4 = '  '; newMatrix5 = '  '\n",
    "        secMatrix = '  ';  vcnMatrix = '  ';  subnetMatrix = '  ' ; rtMatrix = '  '; dhcpOptMatrix = '  '\n",
    "        vcnFoundFlag = False; subnetFoundFlag = False; secListFoundFlag = False; rtFoundFlag = False; dhcpOptFoundFlag = False\n",
    "        \n",
    "        for profile in profiles:\n",
    "            config = oci.config.from_file(profile_name=profile)\n",
    "            network = oci.core.VirtualNetworkClient({'region': ssoRegion}, signer=signer)\n",
    "            print('-' + compt.name)\n",
    "            vcns = network.list_vcns(compt.id)\n",
    "\n",
    "#             print('Region', config['region'])\n",
    "            \n",
    "            if vcns.data:\n",
    "                vcnFoundFlag = True\n",
    "                for vcn in vcns.data:\n",
    "                    print('vcn: ' + vcn.display_name)\n",
    "                    newMatrix = newMatrix + ' \\\\textsf {' +  vcn.display_name +   '} \\\\\\[1pt]'\n",
    "                vcnMatrix = beginMatrix +  newMatrix + ' \\end{array}\\ '\n",
    "            else:\n",
    "                if not vcnFoundFlag:\n",
    "                    vcnMatrix = ' {\\\\Tiny \\\\textsf{NO VCNs}}' \n",
    "\n",
    "            subnets = network.list_subnets(compt.id)\n",
    "            \n",
    "            if subnets.data:\n",
    "                subnetFoundFlag = True\n",
    "                for subnet in subnets.data:\n",
    "#                     print('vcn: ' + subnet.display_name)\n",
    "                    newMatrix2 = newMatrix2  + ' \\\\textsf {' +  subnet.display_name +   '} \\\\\\[1pt]'\n",
    "                subnetMatrix = beginMatrix +  newMatrix2 + ' \\end{array}\\ '\n",
    "            else:\n",
    "                if not subnetFoundFlag:\n",
    "                    subnetMatrix = ' {\\\\Tiny \\\\textsf{NO Subnets}}'\n",
    "                    \n",
    "            secLists = network.list_security_lists(compt.id)\n",
    "            \n",
    "            if secLists.data:\n",
    "                secListFoundFlag = True\n",
    "                for secList in secLists.data:\n",
    "                    newMatrix3 = newMatrix3  + ' \\\\Tiny \\\\textsf{' +  secList.display_name +   '} \\\\\\[1pt]'\n",
    "                secMatrix = beginMatrix +  newMatrix3 + ' \\end{array}\\ '\n",
    "            else:\n",
    "                if not secListFoundFlag:\n",
    "                    secListMatrix = ' {\\\\small \\\\textsf{NO Security Lists}}'\n",
    "                    \n",
    "            rts = network.list_route_tables(compt.id)\n",
    "            \n",
    "            if rts.data:\n",
    "                rtFoundFlag = True\n",
    "                for rt in rts.data:\n",
    "                    newMatrix4 = newMatrix4  + ' \\\\Tiny \\\\textsf{' +  rt.display_name +   '} \\\\\\[1pt]'\n",
    "                rtMatrix = beginMatrix +  newMatrix4 + ' \\end{array}\\ '\n",
    "            else:\n",
    "                if not rtFoundFlag:\n",
    "                    rtMatrix = ' {\\\\small \\\\textsf{NO Route Tables}}'\n",
    "                    \n",
    "            dhcpOpts = network.list_dhcp_options(compt.id)\n",
    "            \n",
    "            if dhcpOpts.data:\n",
    "                dhcpOptFoundFlag = True\n",
    "                for dhcpOpt in dhcpOpts.data:\n",
    "                    newMatrix5 = newMatrix5  + ' \\\\Tiny \\\\textsf{' +  dhcpOpt.display_name +   '} \\\\\\[1pt]'\n",
    "                dhcpOptMatrix = beginMatrix +  newMatrix5 + ' \\end{array}\\ '\n",
    "            else:\n",
    "                if not dhcpOptFoundFlag:\n",
    "                    dhcpOptMatrix = ' {\\\\small \\\\textsf{NO DHCP Options}}'\n",
    "                   \n",
    "#             print('VCNMATRIX',vcnMatrix)\n",
    "        # BEGIN Compute\n",
    "        # \n",
    "#         print('COMPUTE')\n",
    "        instanceMatrix = ' '; vnicMatrix = ' '\n",
    "        newComputeMatrix =' '; newComputeMatrix2 =' '\n",
    "        instanceFoundFlag = False; vnicFoundFlag = False\n",
    "\n",
    "        for profile in profiles:\n",
    "            config = oci.config.from_file(profile_name=profile)\n",
    "            network = oci.core.VirtualNetworkClient({'region': ssoRegion}, signer=signer)\n",
    "#             vcns = network.list_vcns(compt.id)\n",
    "            print('Compt/Region' + compt.name + '/' +  config['region']  )\n",
    "\n",
    "            compute = oci.core.ComputeClient({'region': ssoRegion}, signer=signer)\n",
    "            instances = compute.list_instances(compt.id)\n",
    "            if instances.data:\n",
    "                instanceFoundFlag = True\n",
    "                for instance in instances.data:\n",
    "                    newComputeMatrix = newComputeMatrix  + ' \\\\textsf {' +  instance.display_name +   '} \\\\\\[1pt]'\n",
    "                instanceMatrix = beginMatrix +  newComputeMatrix + ' \\end{array}\\ '\n",
    "            else:\n",
    "                if not instanceFoundFlag:\n",
    "                    instanceMatrix = ' {\\\\Tiny \\\\textsf{NO Instances}} '\n",
    "\n",
    "            vnicAttchs = compute.list_vnic_attachments(compt.id)            \n",
    "            if vnicAttchs.data:\n",
    "                vnicFoundFlag = True\n",
    "                for vnicAttch in vnicAttchs.data:\n",
    "                    vnic = network.get_vnic(vnicAttch.vnic_id)\n",
    "                    newComputeMatrix2 = newComputeMatrix2  + ' \\\\textsf {' +  vnic.data.display_name +   '} \\\\\\[1pt]'\n",
    "                vnicMatrix = beginMatrix +  newComputeMatrix2 + ' \\end{array}\\ '\n",
    "            else:\n",
    "                if not vnicFoundFlag:\n",
    "                    vnicMatrix = ' {\\\\Tiny \\\\textsf{NO VNICs}} '                    \n",
    "\n",
    "        # BEGIN DataBAse\n",
    "        # \n",
    "#         print('DATABASE')\n",
    "        dbaasMatrix = ' '; atpMatrix = ' '; adwMatrix = ' '\n",
    "        newDatabaseMatrix =' '; newDatabaseMatrix2 =' '; newDatabaseMatrix3 =' '\n",
    "        dbaasFoundFlag = False; atpFoundFlag = False; adwFoundFlag = False\n",
    "\n",
    "        for profile in profiles:\n",
    "            config = oci.config.from_file(profile_name=profile)\n",
    "#             print('Compt/Region' + compt.name + '/' +  config['region']  )\n",
    "\n",
    "            database_client = oci.database.DatabaseClient({'region': ssoRegion}, signer=signer)\n",
    "    \n",
    "            dbaasMatrix = ' {\\\\Tiny \\\\textsf{NO DBaaSs}} '   \n",
    "    \n",
    "            atps = database_client.list_autonomous_databases(compt.id)\n",
    "            \n",
    "            if atps.data:\n",
    "                atpFoundFlag = True\n",
    "                for atp in atps.data:\n",
    "                    if atp.db_workload in 'OLTP':\n",
    "                        newDatabaseMatrix2 = newDatabaseMatrix2  + ' \\\\textsf {' +  atp.display_name +   '} \\\\\\[1pt]'\n",
    "                atpMatrix = beginMatrix +  newDatabaseMatrix2 + ' \\end{array}\\ '\n",
    "            else:\n",
    "                if not atpFoundFlag:\n",
    "                    atpMatrix = ' {\\\\Tiny \\\\textsf{NO ATPs}} '\n",
    "                    \n",
    "            if atps.data:\n",
    "                adwFoundFlag = True\n",
    "                for atp in atps.data:\n",
    "                    if atp.db_workload in 'ADW':\n",
    "                        newDatabaseMatrix3 = newDatabaseMatrix3  + ' \\\\textsf {' +  atp.display_name +   '} \\\\\\[1pt]'\n",
    "                adwMatrix = beginMatrix +  newDatabaseMatrix3 + ' \\end{array}\\ '\n",
    "            else:\n",
    "                if not adwFoundFlag:\n",
    "                    adwMatrix = ' {\\\\Tiny \\\\textsf{NO ATPs}} '\n",
    "                       \n",
    "#         print('STORAGE')\n",
    "        blockMatrix = ' '; fileSysMatrix = ' '; objectMatrix = ' '\n",
    "        newStorageMatrix =' '; newStorageMatrix2 =' '; newStorageMatrix3 =' '\n",
    "        blockFoundFlag = False; fileSysFoundFlag = False; objectFoundFlag = False\n",
    "\n",
    "        for profile in profiles:\n",
    "            config = oci.config.from_file(profile_name=profile)\n",
    "            identity = oci.identity.IdentityClient({'region': ssoRegion}, signer=signer)\n",
    "            availDomains = identity.list_availability_domains(compt.id)\n",
    "\n",
    "            fsClient = oci.file_storage.FileStorageClient({'region': ssoRegion}, signer=signer)\n",
    "            for availDomain in availDomains.data:\n",
    "                fileSystems = fsClient.list_file_systems(compartment_id=compt.id,\\\n",
    "                                                         availability_domain=availDomain.name)\n",
    "\n",
    "                if fileSystems.data:\n",
    "                    fileSysFoundFlag = True\n",
    "                    for fileSystem in fileSystems.data:\n",
    "                        newStorageMatrix2 = newStorageMatrix2  + ' \\\\textsf {' +  fileSystem.display_name +   '} \\\\\\[1pt]'\n",
    "                    fileSysMatrix = beginMatrix +  newStorageMatrix2 + ' \\end{array}\\ '\n",
    "                else:\n",
    "                    if not fileSysFoundFlag:\n",
    "                        fileSysMatrix = ' {\\\\Tiny \\\\textsf{NO ATPs}} '\n",
    "            \n",
    "            objStoreClient = oci.object_storage.ObjectStorageClient({'region': ssoRegion}, signer=signer)\n",
    "            nameSpace = objStoreClient.get_namespace(compartment_id=compt.id)\n",
    "            buckets = objStoreClient.list_buckets( namespace_name=nameSpace.data, compartment_id=compt.id)\n",
    "            if buckets.data:\n",
    "                objectFoundFlag = True\n",
    "                for bucket in buckets.data:\n",
    "                    newStorageMatrix3 = newStorageMatrix3  + ' \\\\textsf {' +  bucket.name +   '} \\\\\\[1pt]'\n",
    "                objectMatrix = beginMatrix +  newStorageMatrix3 + ' \\end{array}\\ '\n",
    "            else:\n",
    "                if not objectFoundFlag:\n",
    "                    objectMatrix = ' {\\\\Tiny \\\\textsf{NO ATPs}} '\n",
    "       \n",
    "        storageMatrix = beginMatrix + ' \\\\overbrace{ ' + fileSysMatrix + ' }^{\\\\color{red}{\\\\textbf{File Systems}}} \\\\\\[1pt] \\\\\\ \\\\hdashline  \\\\\\[1pt] '  \n",
    "        storageMatrix = storageMatrix + ' \\\\overbrace{ '   + objectMatrix +  ' }^{\\\\color{red}{\\\\textbf{Object Storage Buckets}}} \\\\\\[1pt] \\\\\\ \\\\hdashline  \\\\\\[1pt] '  \n",
    "        storageMatrix = storageMatrix + ' \\end{array}\\   '                                  \n",
    "     \n",
    "        databaseMatrix = beginMatrix + ' \\\\overbrace{ '   + atpMatrix +  ' }^{\\\\color{red}{\\\\textbf{ATPs}}} \\\\\\[1pt] \\\\\\ \\\\hdashline  \\\\\\[1pt] '  \n",
    "        databaseMatrix = databaseMatrix + ' \\\\overbrace{ '   + adwMatrix +  ' }^{\\\\color{red}{\\\\textbf{ADWs}}} \\\\\\[1pt] \\\\\\ \\\\hdashline  \\\\\\[1pt] '  \n",
    "        databaseMatrix = databaseMatrix + ' \\\\overbrace{ '   + dbaasMatrix +  ' }^{\\\\color{red}{\\\\textbf{DBaaSs}}} \\\\\\[1pt] \\\\\\ \\\\hdashline  \\\\\\[1pt] '  \n",
    "        databaseMatrix = databaseMatrix + ' \\end{array}\\   '                                  \n",
    "     \n",
    "        computeMatrix = beginMatrix + ' \\\\overbrace{ '   + instanceMatrix +  ' }^{\\\\color{red}{\\\\textbf{Instances}}} \\\\\\[1pt] \\\\\\ \\\\hdashline  \\\\\\[1pt] '  \n",
    "        computeMatrix = computeMatrix + ' \\\\overbrace{ '   + vnicMatrix +  ' }^{\\\\color{red}{\\\\textbf{VNICs}}} \\\\\\[1pt] \\\\\\ \\\\hdashline  \\\\\\[1pt] '  \n",
    "        computeMatrix = computeMatrix + ' \\end{array}\\   '                                  \n",
    "                \n",
    "        networkMatrix = beginMatrix + ' \\\\overbrace{ '   + vcnMatrix +  ' }^{\\\\color{red}{\\\\textbf{VCNs}}} \\\\\\[1pt] \\\\\\ \\\\hdashline  \\\\\\[1pt] '  \n",
    "        networkMatrix = networkMatrix + ' \\\\overbrace{ '   + subnetMatrix +  ' }^{\\\\color{red}{\\\\textbf{SUBNETs}}} \\\\\\[1pt] \\\\\\  \\\\hdashline \\\\\\[1pt]  '  \n",
    "        networkMatrix = networkMatrix + ' \\\\overbrace{ '   + secMatrix +  ' }^{\\\\color{red}{\\\\textbf{SECURITY LISTs}}} \\\\\\[1pt] \\\\\\ \\\\hdashline \\\\\\[1pt]  '  \n",
    "        networkMatrix = networkMatrix + ' \\\\overbrace{ '   + rtMatrix +  ' }^{\\\\color{red}{\\\\textbf{ROUTE TABLEs}}} \\\\\\[1pt] \\\\\\ \\\\hdashline \\\\\\[1pt]  ' \n",
    "        networkMatrix = networkMatrix + ' \\\\overbrace{ '   + dhcpOptMatrix +  ' }^{\\\\color{red}{\\\\textbf{DHCP OPTIONs}}} \\\\\\[1pt] \\\\\\ \\\\hdashline \\\\\\[1pt]  ' \n",
    "        networkMatrix = networkMatrix + ' \\end{array}\\   '\n",
    "#        \n",
    "        tmpTableLine = tmpTableLine.replace('VCNS', networkMatrix )\n",
    "        tmpTableLine = tmpTableLine.replace('COMPUTE', computeMatrix )\n",
    "        tmpTableLine = tmpTableLine.replace('DATABASE', databaseMatrix )\n",
    "        tmpTableLine = tmpTableLine.replace('STORAGE', storageMatrix)\n",
    "        #\n",
    "        comptTableLines.append(tmpTableLine)\n",
    "    \n",
    "    for loopTableLine in comptTableLines:\n",
    "        comptTable = comptTable + loopTableLine\n",
    "\n",
    "    comptTable = comptTableTop + comptTable + \" \\end{array} \"\n",
    "#     print('COMPTTABLE',comptTable)\n",
    "    display(Markdown(comptTableTitle))\n",
    "    display(Markdown(comptTable))\n",
    "    return\n",
    "\n",
    "showComptsTable(comptList)"
   ]
  },
  {
   "cell_type": "code",
   "execution_count": null,
   "metadata": {},
   "outputs": [],
   "source": []
  }
 ],
 "metadata": {
  "kernelspec": {
   "display_name": "Python 3",
   "language": "python",
   "name": "python3"
  },
  "language_info": {
   "codemirror_mode": {
    "name": "ipython",
    "version": 3
   },
   "file_extension": ".py",
   "mimetype": "text/x-python",
   "name": "python",
   "nbconvert_exporter": "python",
   "pygments_lexer": "ipython3",
   "version": "3.7.9"
  }
 },
 "nbformat": 4,
 "nbformat_minor": 2
}
